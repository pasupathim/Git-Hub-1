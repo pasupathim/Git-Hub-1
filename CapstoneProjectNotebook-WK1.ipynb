#!/usr/bin/env python
# coding: utf-8

# #This is the python project for IBM Data Science capstone project

# In[10]:


import pandas as pd
import numpy as np


# In[11]:


print ("Hello Capstone Project Course!")

